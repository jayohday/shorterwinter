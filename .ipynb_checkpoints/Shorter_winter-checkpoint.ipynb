{
 "cells": [
  {
   "cell_type": "code",
   "execution_count": 1,
   "metadata": {},
   "outputs": [],
   "source": [
    "import openpyxl"
   ]
  },
  {
   "cell_type": "code",
   "execution_count": 2,
   "metadata": {},
   "outputs": [],
   "source": [
    "wb = openpyxl.load_workbook('merged.xlsx')"
   ]
  },
  {
   "cell_type": "code",
   "execution_count": 3,
   "metadata": {},
   "outputs": [
    {
     "data": {
      "text/plain": [
       "openpyxl.workbook.workbook.Workbook"
      ]
     },
     "execution_count": 3,
     "metadata": {},
     "output_type": "execute_result"
    }
   ],
   "source": [
    "type(wb)"
   ]
  },
  {
   "cell_type": "code",
   "execution_count": 4,
   "metadata": {},
   "outputs": [
    {
     "data": {
      "text/plain": [
       "['merged']"
      ]
     },
     "execution_count": 4,
     "metadata": {},
     "output_type": "execute_result"
    }
   ],
   "source": [
    "wb.get_sheet_names()"
   ]
  },
  {
   "cell_type": "code",
   "execution_count": 5,
   "metadata": {},
   "outputs": [],
   "source": [
    "sheet = wb.get_sheet_by_name('merged')"
   ]
  },
  {
   "cell_type": "code",
   "execution_count": 6,
   "metadata": {},
   "outputs": [
    {
     "ename": "TypeError",
     "evalue": "'Worksheet' object is not callable",
     "output_type": "error",
     "traceback": [
      "\u001b[0;31m---------------------------------------------------------------------------\u001b[0m",
      "\u001b[0;31mTypeError\u001b[0m                                 Traceback (most recent call last)",
      "\u001b[0;32m<ipython-input-6-80f0e38a9e9c>\u001b[0m in \u001b[0;36m<module>\u001b[0;34m()\u001b[0m\n\u001b[0;32m----> 1\u001b[0;31m \u001b[0msheet\u001b[0m\u001b[0;34m(\u001b[0m\u001b[0;34m'A1'\u001b[0m\u001b[0;34m)\u001b[0m\u001b[0;34m\u001b[0m\u001b[0m\n\u001b[0m",
      "\u001b[0;31mTypeError\u001b[0m: 'Worksheet' object is not callable"
     ]
    }
   ],
   "source": [
    "sheet('A1')"
   ]
  },
  {
   "cell_type": "code",
   "execution_count": 7,
   "metadata": {},
   "outputs": [
    {
     "data": {
      "text/plain": [
       "<Cell merged.A1>"
      ]
     },
     "execution_count": 7,
     "metadata": {},
     "output_type": "execute_result"
    }
   ],
   "source": [
    "sheet['A1']"
   ]
  },
  {
   "cell_type": "code",
   "execution_count": 8,
   "metadata": {},
   "outputs": [],
   "source": [
    "sheet['A1'].value"
   ]
  },
  {
   "cell_type": "code",
   "execution_count": 9,
   "metadata": {},
   "outputs": [
    {
     "data": {
      "text/plain": [
       "0"
      ]
     },
     "execution_count": 9,
     "metadata": {},
     "output_type": "execute_result"
    }
   ],
   "source": [
    "sheet['A2'].value"
   ]
  },
  {
   "cell_type": "code",
   "execution_count": 10,
   "metadata": {},
   "outputs": [
    {
     "data": {
      "text/plain": [
       "(<Cell merged.B1>,\n",
       " <Cell merged.B2>,\n",
       " <Cell merged.B3>,\n",
       " <Cell merged.B4>,\n",
       " <Cell merged.B5>,\n",
       " <Cell merged.B6>,\n",
       " <Cell merged.B7>,\n",
       " <Cell merged.B8>,\n",
       " <Cell merged.B9>,\n",
       " <Cell merged.B10>,\n",
       " <Cell merged.B11>,\n",
       " <Cell merged.B12>,\n",
       " <Cell merged.B13>,\n",
       " <Cell merged.B14>,\n",
       " <Cell merged.B15>,\n",
       " <Cell merged.B16>,\n",
       " <Cell merged.B17>,\n",
       " <Cell merged.B18>,\n",
       " <Cell merged.B19>,\n",
       " <Cell merged.B20>,\n",
       " <Cell merged.B21>,\n",
       " <Cell merged.B22>,\n",
       " <Cell merged.B23>,\n",
       " <Cell merged.B24>,\n",
       " <Cell merged.B25>,\n",
       " <Cell merged.B26>,\n",
       " <Cell merged.B27>,\n",
       " <Cell merged.B28>,\n",
       " <Cell merged.B29>,\n",
       " <Cell merged.B30>,\n",
       " <Cell merged.B31>,\n",
       " <Cell merged.B32>,\n",
       " <Cell merged.B33>,\n",
       " <Cell merged.B34>,\n",
       " <Cell merged.B35>,\n",
       " <Cell merged.B36>,\n",
       " <Cell merged.B37>,\n",
       " <Cell merged.B38>,\n",
       " <Cell merged.B39>,\n",
       " <Cell merged.B40>,\n",
       " <Cell merged.B41>,\n",
       " <Cell merged.B42>,\n",
       " <Cell merged.B43>,\n",
       " <Cell merged.B44>,\n",
       " <Cell merged.B45>,\n",
       " <Cell merged.B46>,\n",
       " <Cell merged.B47>,\n",
       " <Cell merged.B48>,\n",
       " <Cell merged.B49>,\n",
       " <Cell merged.B50>,\n",
       " <Cell merged.B51>,\n",
       " <Cell merged.B52>,\n",
       " <Cell merged.B53>,\n",
       " <Cell merged.B54>,\n",
       " <Cell merged.B55>,\n",
       " <Cell merged.B56>,\n",
       " <Cell merged.B57>,\n",
       " <Cell merged.B58>,\n",
       " <Cell merged.B59>,\n",
       " <Cell merged.B60>,\n",
       " <Cell merged.B61>,\n",
       " <Cell merged.B62>,\n",
       " <Cell merged.B63>,\n",
       " <Cell merged.B64>,\n",
       " <Cell merged.B65>,\n",
       " <Cell merged.B66>,\n",
       " <Cell merged.B67>,\n",
       " <Cell merged.B68>,\n",
       " <Cell merged.B69>,\n",
       " <Cell merged.B70>,\n",
       " <Cell merged.B71>,\n",
       " <Cell merged.B72>,\n",
       " <Cell merged.B73>,\n",
       " <Cell merged.B74>,\n",
       " <Cell merged.B75>,\n",
       " <Cell merged.B76>,\n",
       " <Cell merged.B77>,\n",
       " <Cell merged.B78>,\n",
       " <Cell merged.B79>,\n",
       " <Cell merged.B80>,\n",
       " <Cell merged.B81>,\n",
       " <Cell merged.B82>,\n",
       " <Cell merged.B83>,\n",
       " <Cell merged.B84>,\n",
       " <Cell merged.B85>,\n",
       " <Cell merged.B86>,\n",
       " <Cell merged.B87>,\n",
       " <Cell merged.B88>,\n",
       " <Cell merged.B89>,\n",
       " <Cell merged.B90>,\n",
       " <Cell merged.B91>,\n",
       " <Cell merged.B92>,\n",
       " <Cell merged.B93>,\n",
       " <Cell merged.B94>,\n",
       " <Cell merged.B95>,\n",
       " <Cell merged.B96>,\n",
       " <Cell merged.B97>,\n",
       " <Cell merged.B98>,\n",
       " <Cell merged.B99>,\n",
       " <Cell merged.B100>,\n",
       " <Cell merged.B101>,\n",
       " <Cell merged.B102>,\n",
       " <Cell merged.B103>,\n",
       " <Cell merged.B104>,\n",
       " <Cell merged.B105>,\n",
       " <Cell merged.B106>,\n",
       " <Cell merged.B107>,\n",
       " <Cell merged.B108>,\n",
       " <Cell merged.B109>,\n",
       " <Cell merged.B110>,\n",
       " <Cell merged.B111>,\n",
       " <Cell merged.B112>,\n",
       " <Cell merged.B113>,\n",
       " <Cell merged.B114>,\n",
       " <Cell merged.B115>,\n",
       " <Cell merged.B116>,\n",
       " <Cell merged.B117>,\n",
       " <Cell merged.B118>,\n",
       " <Cell merged.B119>,\n",
       " <Cell merged.B120>,\n",
       " <Cell merged.B121>,\n",
       " <Cell merged.B122>,\n",
       " <Cell merged.B123>,\n",
       " <Cell merged.B124>,\n",
       " <Cell merged.B125>,\n",
       " <Cell merged.B126>,\n",
       " <Cell merged.B127>,\n",
       " <Cell merged.B128>,\n",
       " <Cell merged.B129>,\n",
       " <Cell merged.B130>,\n",
       " <Cell merged.B131>,\n",
       " <Cell merged.B132>,\n",
       " <Cell merged.B133>,\n",
       " <Cell merged.B134>,\n",
       " <Cell merged.B135>,\n",
       " <Cell merged.B136>,\n",
       " <Cell merged.B137>,\n",
       " <Cell merged.B138>,\n",
       " <Cell merged.B139>,\n",
       " <Cell merged.B140>,\n",
       " <Cell merged.B141>,\n",
       " <Cell merged.B142>,\n",
       " <Cell merged.B143>,\n",
       " <Cell merged.B144>,\n",
       " <Cell merged.B145>,\n",
       " <Cell merged.B146>,\n",
       " <Cell merged.B147>,\n",
       " <Cell merged.B148>,\n",
       " <Cell merged.B149>,\n",
       " <Cell merged.B150>,\n",
       " <Cell merged.B151>,\n",
       " <Cell merged.B152>,\n",
       " <Cell merged.B153>,\n",
       " <Cell merged.B154>,\n",
       " <Cell merged.B155>,\n",
       " <Cell merged.B156>,\n",
       " <Cell merged.B157>,\n",
       " <Cell merged.B158>,\n",
       " <Cell merged.B159>,\n",
       " <Cell merged.B160>,\n",
       " <Cell merged.B161>,\n",
       " <Cell merged.B162>,\n",
       " <Cell merged.B163>,\n",
       " <Cell merged.B164>,\n",
       " <Cell merged.B165>,\n",
       " <Cell merged.B166>,\n",
       " <Cell merged.B167>,\n",
       " <Cell merged.B168>,\n",
       " <Cell merged.B169>,\n",
       " <Cell merged.B170>,\n",
       " <Cell merged.B171>,\n",
       " <Cell merged.B172>,\n",
       " <Cell merged.B173>,\n",
       " <Cell merged.B174>,\n",
       " <Cell merged.B175>,\n",
       " <Cell merged.B176>,\n",
       " <Cell merged.B177>,\n",
       " <Cell merged.B178>,\n",
       " <Cell merged.B179>,\n",
       " <Cell merged.B180>,\n",
       " <Cell merged.B181>,\n",
       " <Cell merged.B182>,\n",
       " <Cell merged.B183>,\n",
       " <Cell merged.B184>,\n",
       " <Cell merged.B185>,\n",
       " <Cell merged.B186>,\n",
       " <Cell merged.B187>,\n",
       " <Cell merged.B188>,\n",
       " <Cell merged.B189>,\n",
       " <Cell merged.B190>,\n",
       " <Cell merged.B191>,\n",
       " <Cell merged.B192>,\n",
       " <Cell merged.B193>,\n",
       " <Cell merged.B194>,\n",
       " <Cell merged.B195>,\n",
       " <Cell merged.B196>,\n",
       " <Cell merged.B197>,\n",
       " <Cell merged.B198>,\n",
       " <Cell merged.B199>,\n",
       " <Cell merged.B200>,\n",
       " <Cell merged.B201>,\n",
       " <Cell merged.B202>,\n",
       " <Cell merged.B203>,\n",
       " <Cell merged.B204>,\n",
       " <Cell merged.B205>,\n",
       " <Cell merged.B206>,\n",
       " <Cell merged.B207>,\n",
       " <Cell merged.B208>,\n",
       " <Cell merged.B209>,\n",
       " <Cell merged.B210>,\n",
       " <Cell merged.B211>,\n",
       " <Cell merged.B212>,\n",
       " <Cell merged.B213>,\n",
       " <Cell merged.B214>,\n",
       " <Cell merged.B215>,\n",
       " <Cell merged.B216>,\n",
       " <Cell merged.B217>,\n",
       " <Cell merged.B218>,\n",
       " <Cell merged.B219>,\n",
       " <Cell merged.B220>,\n",
       " <Cell merged.B221>,\n",
       " <Cell merged.B222>,\n",
       " <Cell merged.B223>,\n",
       " <Cell merged.B224>,\n",
       " <Cell merged.B225>,\n",
       " <Cell merged.B226>,\n",
       " <Cell merged.B227>,\n",
       " <Cell merged.B228>,\n",
       " <Cell merged.B229>,\n",
       " <Cell merged.B230>,\n",
       " <Cell merged.B231>,\n",
       " <Cell merged.B232>,\n",
       " <Cell merged.B233>,\n",
       " <Cell merged.B234>,\n",
       " <Cell merged.B235>,\n",
       " <Cell merged.B236>,\n",
       " <Cell merged.B237>,\n",
       " <Cell merged.B238>,\n",
       " <Cell merged.B239>,\n",
       " <Cell merged.B240>,\n",
       " <Cell merged.B241>,\n",
       " <Cell merged.B242>,\n",
       " <Cell merged.B243>,\n",
       " <Cell merged.B244>,\n",
       " <Cell merged.B245>,\n",
       " <Cell merged.B246>,\n",
       " <Cell merged.B247>,\n",
       " <Cell merged.B248>,\n",
       " <Cell merged.B249>,\n",
       " <Cell merged.B250>,\n",
       " <Cell merged.B251>,\n",
       " <Cell merged.B252>,\n",
       " <Cell merged.B253>,\n",
       " <Cell merged.B254>,\n",
       " <Cell merged.B255>,\n",
       " <Cell merged.B256>,\n",
       " <Cell merged.B257>,\n",
       " <Cell merged.B258>,\n",
       " <Cell merged.B259>,\n",
       " <Cell merged.B260>,\n",
       " <Cell merged.B261>,\n",
       " <Cell merged.B262>,\n",
       " <Cell merged.B263>,\n",
       " <Cell merged.B264>,\n",
       " <Cell merged.B265>,\n",
       " <Cell merged.B266>,\n",
       " <Cell merged.B267>,\n",
       " <Cell merged.B268>,\n",
       " <Cell merged.B269>,\n",
       " <Cell merged.B270>,\n",
       " <Cell merged.B271>,\n",
       " <Cell merged.B272>,\n",
       " <Cell merged.B273>,\n",
       " <Cell merged.B274>,\n",
       " <Cell merged.B275>,\n",
       " <Cell merged.B276>,\n",
       " <Cell merged.B277>,\n",
       " <Cell merged.B278>,\n",
       " <Cell merged.B279>,\n",
       " <Cell merged.B280>,\n",
       " <Cell merged.B281>,\n",
       " <Cell merged.B282>,\n",
       " <Cell merged.B283>,\n",
       " <Cell merged.B284>,\n",
       " <Cell merged.B285>,\n",
       " <Cell merged.B286>,\n",
       " <Cell merged.B287>,\n",
       " <Cell merged.B288>,\n",
       " <Cell merged.B289>,\n",
       " <Cell merged.B290>,\n",
       " <Cell merged.B291>,\n",
       " <Cell merged.B292>,\n",
       " <Cell merged.B293>,\n",
       " <Cell merged.B294>,\n",
       " <Cell merged.B295>,\n",
       " <Cell merged.B296>,\n",
       " <Cell merged.B297>,\n",
       " <Cell merged.B298>,\n",
       " <Cell merged.B299>,\n",
       " <Cell merged.B300>,\n",
       " <Cell merged.B301>,\n",
       " <Cell merged.B302>,\n",
       " <Cell merged.B303>,\n",
       " <Cell merged.B304>,\n",
       " <Cell merged.B305>,\n",
       " <Cell merged.B306>,\n",
       " <Cell merged.B307>,\n",
       " <Cell merged.B308>,\n",
       " <Cell merged.B309>,\n",
       " <Cell merged.B310>,\n",
       " <Cell merged.B311>,\n",
       " <Cell merged.B312>,\n",
       " <Cell merged.B313>,\n",
       " <Cell merged.B314>,\n",
       " <Cell merged.B315>,\n",
       " <Cell merged.B316>,\n",
       " <Cell merged.B317>,\n",
       " <Cell merged.B318>,\n",
       " <Cell merged.B319>,\n",
       " <Cell merged.B320>,\n",
       " <Cell merged.B321>,\n",
       " <Cell merged.B322>,\n",
       " <Cell merged.B323>,\n",
       " <Cell merged.B324>,\n",
       " <Cell merged.B325>,\n",
       " <Cell merged.B326>,\n",
       " <Cell merged.B327>,\n",
       " <Cell merged.B328>,\n",
       " <Cell merged.B329>,\n",
       " <Cell merged.B330>,\n",
       " <Cell merged.B331>,\n",
       " <Cell merged.B332>,\n",
       " <Cell merged.B333>,\n",
       " <Cell merged.B334>,\n",
       " <Cell merged.B335>,\n",
       " <Cell merged.B336>,\n",
       " <Cell merged.B337>,\n",
       " <Cell merged.B338>,\n",
       " <Cell merged.B339>,\n",
       " <Cell merged.B340>,\n",
       " <Cell merged.B341>,\n",
       " <Cell merged.B342>,\n",
       " <Cell merged.B343>,\n",
       " <Cell merged.B344>,\n",
       " <Cell merged.B345>,\n",
       " <Cell merged.B346>,\n",
       " <Cell merged.B347>,\n",
       " <Cell merged.B348>,\n",
       " <Cell merged.B349>,\n",
       " <Cell merged.B350>,\n",
       " <Cell merged.B351>,\n",
       " <Cell merged.B352>,\n",
       " <Cell merged.B353>,\n",
       " <Cell merged.B354>,\n",
       " <Cell merged.B355>,\n",
       " <Cell merged.B356>,\n",
       " <Cell merged.B357>,\n",
       " <Cell merged.B358>,\n",
       " <Cell merged.B359>,\n",
       " <Cell merged.B360>,\n",
       " <Cell merged.B361>,\n",
       " <Cell merged.B362>,\n",
       " <Cell merged.B363>,\n",
       " <Cell merged.B364>,\n",
       " <Cell merged.B365>,\n",
       " <Cell merged.B366>,\n",
       " <Cell merged.B367>,\n",
       " <Cell merged.B368>,\n",
       " <Cell merged.B369>,\n",
       " <Cell merged.B370>,\n",
       " <Cell merged.B371>,\n",
       " <Cell merged.B372>,\n",
       " <Cell merged.B373>,\n",
       " <Cell merged.B374>,\n",
       " <Cell merged.B375>,\n",
       " <Cell merged.B376>,\n",
       " <Cell merged.B377>,\n",
       " <Cell merged.B378>,\n",
       " <Cell merged.B379>,\n",
       " <Cell merged.B380>,\n",
       " <Cell merged.B381>,\n",
       " <Cell merged.B382>,\n",
       " <Cell merged.B383>,\n",
       " <Cell merged.B384>,\n",
       " <Cell merged.B385>,\n",
       " <Cell merged.B386>,\n",
       " <Cell merged.B387>,\n",
       " <Cell merged.B388>,\n",
       " <Cell merged.B389>,\n",
       " <Cell merged.B390>,\n",
       " <Cell merged.B391>,\n",
       " <Cell merged.B392>,\n",
       " <Cell merged.B393>,\n",
       " <Cell merged.B394>,\n",
       " <Cell merged.B395>,\n",
       " <Cell merged.B396>,\n",
       " <Cell merged.B397>,\n",
       " <Cell merged.B398>,\n",
       " <Cell merged.B399>,\n",
       " <Cell merged.B400>,\n",
       " <Cell merged.B401>,\n",
       " <Cell merged.B402>,\n",
       " <Cell merged.B403>,\n",
       " <Cell merged.B404>,\n",
       " <Cell merged.B405>,\n",
       " <Cell merged.B406>,\n",
       " <Cell merged.B407>,\n",
       " <Cell merged.B408>,\n",
       " <Cell merged.B409>,\n",
       " <Cell merged.B410>,\n",
       " <Cell merged.B411>,\n",
       " <Cell merged.B412>,\n",
       " <Cell merged.B413>,\n",
       " <Cell merged.B414>,\n",
       " <Cell merged.B415>,\n",
       " <Cell merged.B416>,\n",
       " <Cell merged.B417>,\n",
       " <Cell merged.B418>,\n",
       " <Cell merged.B419>,\n",
       " <Cell merged.B420>,\n",
       " <Cell merged.B421>,\n",
       " <Cell merged.B422>,\n",
       " <Cell merged.B423>,\n",
       " <Cell merged.B424>,\n",
       " <Cell merged.B425>,\n",
       " <Cell merged.B426>,\n",
       " <Cell merged.B427>,\n",
       " <Cell merged.B428>,\n",
       " <Cell merged.B429>,\n",
       " <Cell merged.B430>,\n",
       " <Cell merged.B431>,\n",
       " <Cell merged.B432>,\n",
       " <Cell merged.B433>,\n",
       " <Cell merged.B434>,\n",
       " <Cell merged.B435>,\n",
       " <Cell merged.B436>,\n",
       " <Cell merged.B437>,\n",
       " <Cell merged.B438>,\n",
       " <Cell merged.B439>,\n",
       " <Cell merged.B440>,\n",
       " <Cell merged.B441>,\n",
       " <Cell merged.B442>,\n",
       " <Cell merged.B443>,\n",
       " <Cell merged.B444>,\n",
       " <Cell merged.B445>,\n",
       " <Cell merged.B446>,\n",
       " <Cell merged.B447>,\n",
       " <Cell merged.B448>,\n",
       " <Cell merged.B449>,\n",
       " <Cell merged.B450>,\n",
       " <Cell merged.B451>,\n",
       " <Cell merged.B452>,\n",
       " <Cell merged.B453>,\n",
       " <Cell merged.B454>,\n",
       " <Cell merged.B455>,\n",
       " <Cell merged.B456>,\n",
       " <Cell merged.B457>,\n",
       " <Cell merged.B458>,\n",
       " <Cell merged.B459>,\n",
       " <Cell merged.B460>,\n",
       " <Cell merged.B461>,\n",
       " <Cell merged.B462>,\n",
       " <Cell merged.B463>,\n",
       " <Cell merged.B464>,\n",
       " <Cell merged.B465>,\n",
       " <Cell merged.B466>,\n",
       " <Cell merged.B467>,\n",
       " <Cell merged.B468>,\n",
       " <Cell merged.B469>,\n",
       " <Cell merged.B470>,\n",
       " <Cell merged.B471>,\n",
       " <Cell merged.B472>,\n",
       " <Cell merged.B473>,\n",
       " <Cell merged.B474>,\n",
       " <Cell merged.B475>,\n",
       " <Cell merged.B476>,\n",
       " <Cell merged.B477>,\n",
       " <Cell merged.B478>,\n",
       " <Cell merged.B479>,\n",
       " <Cell merged.B480>,\n",
       " <Cell merged.B481>,\n",
       " <Cell merged.B482>,\n",
       " <Cell merged.B483>,\n",
       " <Cell merged.B484>,\n",
       " <Cell merged.B485>,\n",
       " <Cell merged.B486>,\n",
       " <Cell merged.B487>,\n",
       " <Cell merged.B488>,\n",
       " <Cell merged.B489>,\n",
       " <Cell merged.B490>,\n",
       " <Cell merged.B491>,\n",
       " <Cell merged.B492>,\n",
       " <Cell merged.B493>,\n",
       " <Cell merged.B494>,\n",
       " <Cell merged.B495>,\n",
       " <Cell merged.B496>,\n",
       " <Cell merged.B497>,\n",
       " <Cell merged.B498>,\n",
       " <Cell merged.B499>,\n",
       " <Cell merged.B500>,\n",
       " <Cell merged.B501>,\n",
       " <Cell merged.B502>,\n",
       " <Cell merged.B503>,\n",
       " <Cell merged.B504>,\n",
       " <Cell merged.B505>,\n",
       " <Cell merged.B506>,\n",
       " <Cell merged.B507>,\n",
       " <Cell merged.B508>,\n",
       " <Cell merged.B509>,\n",
       " <Cell merged.B510>,\n",
       " <Cell merged.B511>,\n",
       " <Cell merged.B512>,\n",
       " <Cell merged.B513>,\n",
       " <Cell merged.B514>,\n",
       " <Cell merged.B515>,\n",
       " <Cell merged.B516>,\n",
       " <Cell merged.B517>,\n",
       " <Cell merged.B518>,\n",
       " <Cell merged.B519>,\n",
       " <Cell merged.B520>,\n",
       " <Cell merged.B521>,\n",
       " <Cell merged.B522>,\n",
       " <Cell merged.B523>,\n",
       " <Cell merged.B524>,\n",
       " <Cell merged.B525>,\n",
       " <Cell merged.B526>,\n",
       " <Cell merged.B527>,\n",
       " <Cell merged.B528>,\n",
       " <Cell merged.B529>,\n",
       " <Cell merged.B530>,\n",
       " <Cell merged.B531>,\n",
       " <Cell merged.B532>,\n",
       " <Cell merged.B533>,\n",
       " <Cell merged.B534>,\n",
       " <Cell merged.B535>,\n",
       " <Cell merged.B536>,\n",
       " <Cell merged.B537>,\n",
       " <Cell merged.B538>,\n",
       " <Cell merged.B539>,\n",
       " <Cell merged.B540>,\n",
       " <Cell merged.B541>,\n",
       " <Cell merged.B542>,\n",
       " <Cell merged.B543>,\n",
       " <Cell merged.B544>,\n",
       " <Cell merged.B545>,\n",
       " <Cell merged.B546>,\n",
       " <Cell merged.B547>,\n",
       " <Cell merged.B548>,\n",
       " <Cell merged.B549>,\n",
       " <Cell merged.B550>,\n",
       " <Cell merged.B551>,\n",
       " <Cell merged.B552>,\n",
       " <Cell merged.B553>,\n",
       " <Cell merged.B554>,\n",
       " <Cell merged.B555>,\n",
       " <Cell merged.B556>,\n",
       " <Cell merged.B557>,\n",
       " <Cell merged.B558>,\n",
       " <Cell merged.B559>,\n",
       " <Cell merged.B560>,\n",
       " <Cell merged.B561>,\n",
       " <Cell merged.B562>,\n",
       " <Cell merged.B563>,\n",
       " <Cell merged.B564>,\n",
       " <Cell merged.B565>,\n",
       " <Cell merged.B566>,\n",
       " <Cell merged.B567>,\n",
       " <Cell merged.B568>,\n",
       " <Cell merged.B569>,\n",
       " <Cell merged.B570>,\n",
       " <Cell merged.B571>,\n",
       " <Cell merged.B572>,\n",
       " <Cell merged.B573>,\n",
       " <Cell merged.B574>,\n",
       " <Cell merged.B575>,\n",
       " <Cell merged.B576>,\n",
       " <Cell merged.B577>,\n",
       " <Cell merged.B578>,\n",
       " <Cell merged.B579>,\n",
       " <Cell merged.B580>,\n",
       " <Cell merged.B581>,\n",
       " <Cell merged.B582>,\n",
       " <Cell merged.B583>,\n",
       " <Cell merged.B584>,\n",
       " <Cell merged.B585>,\n",
       " <Cell merged.B586>,\n",
       " <Cell merged.B587>,\n",
       " <Cell merged.B588>,\n",
       " <Cell merged.B589>,\n",
       " <Cell merged.B590>,\n",
       " <Cell merged.B591>,\n",
       " <Cell merged.B592>,\n",
       " <Cell merged.B593>,\n",
       " <Cell merged.B594>,\n",
       " <Cell merged.B595>,\n",
       " <Cell merged.B596>,\n",
       " <Cell merged.B597>,\n",
       " <Cell merged.B598>,\n",
       " <Cell merged.B599>,\n",
       " <Cell merged.B600>,\n",
       " <Cell merged.B601>,\n",
       " <Cell merged.B602>,\n",
       " <Cell merged.B603>,\n",
       " <Cell merged.B604>,\n",
       " <Cell merged.B605>,\n",
       " <Cell merged.B606>,\n",
       " <Cell merged.B607>,\n",
       " <Cell merged.B608>,\n",
       " <Cell merged.B609>,\n",
       " <Cell merged.B610>,\n",
       " <Cell merged.B611>,\n",
       " <Cell merged.B612>,\n",
       " <Cell merged.B613>,\n",
       " <Cell merged.B614>,\n",
       " <Cell merged.B615>,\n",
       " <Cell merged.B616>,\n",
       " <Cell merged.B617>,\n",
       " <Cell merged.B618>,\n",
       " <Cell merged.B619>,\n",
       " <Cell merged.B620>,\n",
       " <Cell merged.B621>,\n",
       " <Cell merged.B622>,\n",
       " <Cell merged.B623>,\n",
       " <Cell merged.B624>,\n",
       " <Cell merged.B625>,\n",
       " <Cell merged.B626>,\n",
       " <Cell merged.B627>,\n",
       " <Cell merged.B628>,\n",
       " <Cell merged.B629>,\n",
       " <Cell merged.B630>,\n",
       " <Cell merged.B631>,\n",
       " <Cell merged.B632>,\n",
       " <Cell merged.B633>,\n",
       " <Cell merged.B634>,\n",
       " <Cell merged.B635>,\n",
       " <Cell merged.B636>,\n",
       " <Cell merged.B637>,\n",
       " <Cell merged.B638>,\n",
       " <Cell merged.B639>,\n",
       " <Cell merged.B640>,\n",
       " <Cell merged.B641>,\n",
       " <Cell merged.B642>,\n",
       " <Cell merged.B643>,\n",
       " <Cell merged.B644>,\n",
       " <Cell merged.B645>,\n",
       " <Cell merged.B646>,\n",
       " <Cell merged.B647>,\n",
       " <Cell merged.B648>,\n",
       " <Cell merged.B649>,\n",
       " <Cell merged.B650>,\n",
       " <Cell merged.B651>,\n",
       " <Cell merged.B652>,\n",
       " <Cell merged.B653>,\n",
       " <Cell merged.B654>,\n",
       " <Cell merged.B655>,\n",
       " <Cell merged.B656>,\n",
       " <Cell merged.B657>,\n",
       " <Cell merged.B658>,\n",
       " <Cell merged.B659>,\n",
       " <Cell merged.B660>,\n",
       " <Cell merged.B661>,\n",
       " <Cell merged.B662>,\n",
       " <Cell merged.B663>,\n",
       " <Cell merged.B664>,\n",
       " <Cell merged.B665>,\n",
       " <Cell merged.B666>,\n",
       " <Cell merged.B667>,\n",
       " <Cell merged.B668>,\n",
       " <Cell merged.B669>,\n",
       " <Cell merged.B670>,\n",
       " <Cell merged.B671>,\n",
       " <Cell merged.B672>,\n",
       " <Cell merged.B673>,\n",
       " <Cell merged.B674>,\n",
       " <Cell merged.B675>,\n",
       " <Cell merged.B676>,\n",
       " <Cell merged.B677>,\n",
       " <Cell merged.B678>,\n",
       " <Cell merged.B679>,\n",
       " <Cell merged.B680>,\n",
       " <Cell merged.B681>,\n",
       " <Cell merged.B682>,\n",
       " <Cell merged.B683>,\n",
       " <Cell merged.B684>,\n",
       " <Cell merged.B685>,\n",
       " <Cell merged.B686>,\n",
       " <Cell merged.B687>,\n",
       " <Cell merged.B688>,\n",
       " <Cell merged.B689>,\n",
       " <Cell merged.B690>,\n",
       " <Cell merged.B691>,\n",
       " <Cell merged.B692>,\n",
       " <Cell merged.B693>,\n",
       " <Cell merged.B694>,\n",
       " <Cell merged.B695>,\n",
       " <Cell merged.B696>,\n",
       " <Cell merged.B697>,\n",
       " <Cell merged.B698>,\n",
       " <Cell merged.B699>,\n",
       " <Cell merged.B700>,\n",
       " <Cell merged.B701>)"
      ]
     },
     "execution_count": 10,
     "metadata": {},
     "output_type": "execute_result"
    }
   ],
   "source": [
    "sheet.columns[1]"
   ]
  },
  {
   "cell_type": "code",
   "execution_count": 11,
   "metadata": {},
   "outputs": [],
   "source": [
    "mo = openpyxl.load_workbook('missouri.xlsx')"
   ]
  },
  {
   "cell_type": "code",
   "execution_count": 12,
   "metadata": {},
   "outputs": [
    {
     "data": {
      "text/plain": [
       "['missouri']"
      ]
     },
     "execution_count": 12,
     "metadata": {},
     "output_type": "execute_result"
    }
   ],
   "source": [
    "mo.get_sheet_names()"
   ]
  },
  {
   "cell_type": "code",
   "execution_count": 13,
   "metadata": {},
   "outputs": [],
   "source": [
    "mosheet = mo.get_sheet_by_name('missouri')"
   ]
  },
  {
   "cell_type": "code",
   "execution_count": 14,
   "metadata": {},
   "outputs": [
    {
     "data": {
      "text/plain": [
       "(<Cell missouri.C1>,\n",
       " <Cell missouri.C2>,\n",
       " <Cell missouri.C3>,\n",
       " <Cell missouri.C4>,\n",
       " <Cell missouri.C5>,\n",
       " <Cell missouri.C6>,\n",
       " <Cell missouri.C7>,\n",
       " <Cell missouri.C8>,\n",
       " <Cell missouri.C9>,\n",
       " <Cell missouri.C10>,\n",
       " <Cell missouri.C11>,\n",
       " <Cell missouri.C12>,\n",
       " <Cell missouri.C13>,\n",
       " <Cell missouri.C14>,\n",
       " <Cell missouri.C15>,\n",
       " <Cell missouri.C16>,\n",
       " <Cell missouri.C17>,\n",
       " <Cell missouri.C18>,\n",
       " <Cell missouri.C19>,\n",
       " <Cell missouri.C20>,\n",
       " <Cell missouri.C21>,\n",
       " <Cell missouri.C22>,\n",
       " <Cell missouri.C23>,\n",
       " <Cell missouri.C24>,\n",
       " <Cell missouri.C25>)"
      ]
     },
     "execution_count": 14,
     "metadata": {},
     "output_type": "execute_result"
    }
   ],
   "source": [
    "mosheet.columns[2]"
   ]
  },
  {
   "cell_type": "code",
   "execution_count": 15,
   "metadata": {},
   "outputs": [
    {
     "name": "stdout",
     "output_type": "stream",
     "text": [
      "state_abbr_x\n",
      "MO\n",
      "MO\n",
      "MO\n",
      "MO\n",
      "MO\n",
      "MO\n",
      "MO\n",
      "MO\n",
      "MO\n",
      "MO\n",
      "MO\n",
      "MO\n",
      "MO\n",
      "MO\n",
      "MO\n",
      "MO\n",
      "MO\n",
      "MO\n",
      "MO\n",
      "MO\n",
      "MO\n",
      "MO\n",
      "MO\n",
      "MO\n"
     ]
    }
   ],
   "source": [
    "for cellObj in mosheet.columns[1]:\n",
    "        print(cellObj.value)"
   ]
  },
  {
   "cell_type": "code",
   "execution_count": 16,
   "metadata": {},
   "outputs": [
    {
     "name": "stdout",
     "output_type": "stream",
     "text": [
      "1918_x\n",
      "298\n",
      "305\n",
      "305\n",
      "305\n",
      "305\n",
      "305\n",
      "305\n",
      "305\n",
      "264\n",
      "263\n",
      "298\n",
      "305\n",
      "305\n",
      "298\n",
      "303\n",
      "298\n",
      "263\n",
      "317\n",
      "305\n",
      "305\n",
      "314\n",
      "305\n",
      "305\n",
      "305\n"
     ]
    }
   ],
   "source": [
    "for cellObj in mosheet.columns[12]:\n",
    "        print(cellObj.value)"
   ]
  },
  {
   "cell_type": "code",
   "execution_count": 17,
   "metadata": {},
   "outputs": [
    {
     "name": "stdout",
     "output_type": "stream",
     "text": [
      "1917_x\n",
      "None\n",
      "279\n",
      "282\n",
      "282\n",
      "279\n",
      "274\n",
      "281\n",
      "282\n",
      "279\n",
      "279\n",
      "281\n",
      "279\n",
      "281\n",
      "279\n",
      "279\n",
      "281\n",
      "279\n",
      "286\n",
      "282\n",
      "279\n",
      "282\n",
      "281\n",
      "281\n",
      "279\n"
     ]
    }
   ],
   "source": [
    "for cellObj in mosheet.columns[11]:\n",
    "        print(cellObj.value)"
   ]
  },
  {
   "cell_type": "code",
   "execution_count": 18,
   "metadata": {},
   "outputs": [
    {
     "ename": "SyntaxError",
     "evalue": "'return' outside function (<ipython-input-18-92488e5a0798>, line 3)",
     "output_type": "error",
     "traceback": [
      "\u001b[0;36m  File \u001b[0;32m\"<ipython-input-18-92488e5a0798>\"\u001b[0;36m, line \u001b[0;32m3\u001b[0m\n\u001b[0;31m    return x\u001b[0m\n\u001b[0;31mSyntaxError\u001b[0m\u001b[0;31m:\u001b[0m 'return' outside function\n"
     ]
    }
   ],
   "source": [
    "for cellObj in mosheet.columns[11]:\n",
    "        x = 364-(cellObj.value)\n",
    "        return x"
   ]
  },
  {
   "cell_type": "code",
   "execution_count": 19,
   "metadata": {},
   "outputs": [
    {
     "ename": "TypeError",
     "evalue": "unsupported operand type(s) for -: 'int' and 'unicode'",
     "output_type": "error",
     "traceback": [
      "\u001b[0;31m---------------------------------------------------------------------------\u001b[0m",
      "\u001b[0;31mTypeError\u001b[0m                                 Traceback (most recent call last)",
      "\u001b[0;32m<ipython-input-19-e4d0ac53aa64>\u001b[0m in \u001b[0;36m<module>\u001b[0;34m()\u001b[0m\n\u001b[1;32m      1\u001b[0m \u001b[0;32mfor\u001b[0m \u001b[0mcellObj\u001b[0m \u001b[0;32min\u001b[0m \u001b[0mmosheet\u001b[0m\u001b[0;34m.\u001b[0m\u001b[0mcolumns\u001b[0m\u001b[0;34m[\u001b[0m\u001b[0;36m11\u001b[0m\u001b[0;34m]\u001b[0m\u001b[0;34m:\u001b[0m\u001b[0;34m\u001b[0m\u001b[0m\n\u001b[0;32m----> 2\u001b[0;31m         \u001b[0mx\u001b[0m \u001b[0;34m=\u001b[0m \u001b[0;36m364\u001b[0m\u001b[0;34m-\u001b[0m\u001b[0;34m(\u001b[0m\u001b[0mcellObj\u001b[0m\u001b[0;34m.\u001b[0m\u001b[0mvalue\u001b[0m\u001b[0;34m)\u001b[0m\u001b[0;34m\u001b[0m\u001b[0m\n\u001b[0m",
      "\u001b[0;31mTypeError\u001b[0m: unsupported operand type(s) for -: 'int' and 'unicode'"
     ]
    }
   ],
   "source": [
    "for cellObj in mosheet.columns[11]:\n",
    "        x = 364-(cellObj.value)"
   ]
  },
  {
   "cell_type": "code",
   "execution_count": 20,
   "metadata": {},
   "outputs": [
    {
     "ename": "ValueError",
     "evalue": "invalid literal for int() with base 10: '1917_x'",
     "output_type": "error",
     "traceback": [
      "\u001b[0;31m---------------------------------------------------------------------------\u001b[0m",
      "\u001b[0;31mValueError\u001b[0m                                Traceback (most recent call last)",
      "\u001b[0;32m<ipython-input-20-831a84894bfb>\u001b[0m in \u001b[0;36m<module>\u001b[0;34m()\u001b[0m\n\u001b[1;32m      1\u001b[0m \u001b[0;32mfor\u001b[0m \u001b[0mcellObj\u001b[0m \u001b[0;32min\u001b[0m \u001b[0mmosheet\u001b[0m\u001b[0;34m.\u001b[0m\u001b[0mcolumns\u001b[0m\u001b[0;34m[\u001b[0m\u001b[0;36m11\u001b[0m\u001b[0;34m]\u001b[0m\u001b[0;34m:\u001b[0m\u001b[0;34m\u001b[0m\u001b[0m\n\u001b[0;32m----> 2\u001b[0;31m         \u001b[0mint\u001b[0m\u001b[0;34m(\u001b[0m\u001b[0mcellObj\u001b[0m\u001b[0;34m.\u001b[0m\u001b[0mvalue\u001b[0m\u001b[0;34m)\u001b[0m\u001b[0;34m\u001b[0m\u001b[0m\n\u001b[0m",
      "\u001b[0;31mValueError\u001b[0m: invalid literal for int() with base 10: '1917_x'"
     ]
    }
   ],
   "source": [
    "for cellObj in mosheet.columns[11]:\n",
    "        int(cellObj.value)"
   ]
  },
  {
   "cell_type": "code",
   "execution_count": 21,
   "metadata": {},
   "outputs": [],
   "source": [
    "for cellObj in mosheet.columns[11]:\n",
    "        try:\n",
    "            int(cellObj.value)\n",
    "        except:\n",
    "            continue"
   ]
  },
  {
   "cell_type": "code",
   "execution_count": 22,
   "metadata": {},
   "outputs": [],
   "source": [
    "for cellObj in mosheet.columns[11]:\n",
    "    try:\n",
    "        x = 364-(cellObj.value)\n",
    "    except:\n",
    "        continue"
   ]
  },
  {
   "cell_type": "code",
   "execution_count": 23,
   "metadata": {},
   "outputs": [
    {
     "name": "stdout",
     "output_type": "stream",
     "text": [
      "85\n"
     ]
    }
   ],
   "source": [
    "print x"
   ]
  },
  {
   "cell_type": "code",
   "execution_count": 24,
   "metadata": {},
   "outputs": [],
   "source": [
    "for cellObj in mosheet.columns[12]:\n",
    "    try:\n",
    "        x = 364-(cellObj.value)\n",
    "    except:\n",
    "        continue"
   ]
  },
  {
   "cell_type": "code",
   "execution_count": 25,
   "metadata": {},
   "outputs": [
    {
     "name": "stdout",
     "output_type": "stream",
     "text": [
      "59\n"
     ]
    }
   ],
   "source": [
    "print x"
   ]
  },
  {
   "cell_type": "code",
   "execution_count": 26,
   "metadata": {},
   "outputs": [
    {
     "data": {
      "text/plain": [
       "((<Cell missouri.L2>,),\n",
       " (<Cell missouri.L3>,),\n",
       " (<Cell missouri.L4>,),\n",
       " (<Cell missouri.L5>,),\n",
       " (<Cell missouri.L6>,),\n",
       " (<Cell missouri.L7>,),\n",
       " (<Cell missouri.L8>,),\n",
       " (<Cell missouri.L9>,),\n",
       " (<Cell missouri.L10>,),\n",
       " (<Cell missouri.L11>,),\n",
       " (<Cell missouri.L12>,),\n",
       " (<Cell missouri.L13>,),\n",
       " (<Cell missouri.L14>,),\n",
       " (<Cell missouri.L15>,),\n",
       " (<Cell missouri.L16>,),\n",
       " (<Cell missouri.L17>,),\n",
       " (<Cell missouri.L18>,),\n",
       " (<Cell missouri.L19>,),\n",
       " (<Cell missouri.L20>,),\n",
       " (<Cell missouri.L21>,),\n",
       " (<Cell missouri.L22>,),\n",
       " (<Cell missouri.L23>,),\n",
       " (<Cell missouri.L24>,),\n",
       " (<Cell missouri.L25>,))"
      ]
     },
     "execution_count": 26,
     "metadata": {},
     "output_type": "execute_result"
    }
   ],
   "source": [
    "tuple(mosheet['L2':'L25'])"
   ]
  },
  {
   "cell_type": "code",
   "execution_count": 27,
   "metadata": {},
   "outputs": [
    {
     "ename": "AttributeError",
     "evalue": "'tuple' object has no attribute 'value'",
     "output_type": "error",
     "traceback": [
      "\u001b[0;31m---------------------------------------------------------------------------\u001b[0m",
      "\u001b[0;31mAttributeError\u001b[0m                            Traceback (most recent call last)",
      "\u001b[0;32m<ipython-input-27-cff58f2084e8>\u001b[0m in \u001b[0;36m<module>\u001b[0;34m()\u001b[0m\n\u001b[0;32m----> 1\u001b[0;31m \u001b[0mtuple\u001b[0m\u001b[0;34m(\u001b[0m\u001b[0mmosheet\u001b[0m\u001b[0;34m[\u001b[0m\u001b[0;34m'L2'\u001b[0m\u001b[0;34m:\u001b[0m\u001b[0;34m'L25'\u001b[0m\u001b[0;34m]\u001b[0m\u001b[0;34m)\u001b[0m\u001b[0;34m.\u001b[0m\u001b[0mvalue\u001b[0m\u001b[0;34m\u001b[0m\u001b[0m\n\u001b[0m",
      "\u001b[0;31mAttributeError\u001b[0m: 'tuple' object has no attribute 'value'"
     ]
    }
   ],
   "source": [
    "tuple(mosheet['L2':'L25']).value"
   ]
  },
  {
   "cell_type": "code",
   "execution_count": 28,
   "metadata": {},
   "outputs": [
    {
     "ename": "AttributeError",
     "evalue": "'tuple' object has no attribute 'value'",
     "output_type": "error",
     "traceback": [
      "\u001b[0;31m---------------------------------------------------------------------------\u001b[0m",
      "\u001b[0;31mAttributeError\u001b[0m                            Traceback (most recent call last)",
      "\u001b[0;32m<ipython-input-28-6cc7358673be>\u001b[0m in \u001b[0;36m<module>\u001b[0;34m()\u001b[0m\n\u001b[1;32m      1\u001b[0m \u001b[0;32mfor\u001b[0m \u001b[0mcellObj\u001b[0m \u001b[0;32min\u001b[0m \u001b[0mtuple\u001b[0m\u001b[0;34m(\u001b[0m\u001b[0mmosheet\u001b[0m\u001b[0;34m[\u001b[0m\u001b[0;34m'L2'\u001b[0m\u001b[0;34m:\u001b[0m\u001b[0;34m'L25'\u001b[0m\u001b[0;34m]\u001b[0m\u001b[0;34m)\u001b[0m\u001b[0;34m:\u001b[0m\u001b[0;34m\u001b[0m\u001b[0m\n\u001b[0;32m----> 2\u001b[0;31m     \u001b[0;32mprint\u001b[0m \u001b[0mcellObj\u001b[0m\u001b[0;34m.\u001b[0m\u001b[0mvalue\u001b[0m\u001b[0;34m\u001b[0m\u001b[0m\n\u001b[0m",
      "\u001b[0;31mAttributeError\u001b[0m: 'tuple' object has no attribute 'value'"
     ]
    }
   ],
   "source": [
    "for cellObj in tuple(mosheet['L2':'L25']):\n",
    "    print cellObj.value"
   ]
  },
  {
   "cell_type": "code",
   "execution_count": 29,
   "metadata": {},
   "outputs": [
    {
     "ename": "AttributeError",
     "evalue": "'tuple' object has no attribute 'row'",
     "output_type": "error",
     "traceback": [
      "\u001b[0;31m---------------------------------------------------------------------------\u001b[0m",
      "\u001b[0;31mAttributeError\u001b[0m                            Traceback (most recent call last)",
      "\u001b[0;32m<ipython-input-29-ab622d7e8d9c>\u001b[0m in \u001b[0;36m<module>\u001b[0;34m()\u001b[0m\n\u001b[0;32m----> 1\u001b[0;31m \u001b[0;32mfor\u001b[0m \u001b[0mcellObj\u001b[0m \u001b[0;32min\u001b[0m \u001b[0mmosheet\u001b[0m\u001b[0;34m.\u001b[0m\u001b[0mcolumns\u001b[0m\u001b[0;34m[\u001b[0m\u001b[0;36m11\u001b[0m\u001b[0;34m]\u001b[0m\u001b[0;34m.\u001b[0m\u001b[0mrow\u001b[0m\u001b[0;34m[\u001b[0m\u001b[0;36m2\u001b[0m\u001b[0;34m]\u001b[0m\u001b[0;34m:\u001b[0m\u001b[0;34m\u001b[0m\u001b[0m\n\u001b[0m\u001b[1;32m      2\u001b[0m     \u001b[0;32mtry\u001b[0m\u001b[0;34m:\u001b[0m\u001b[0;34m\u001b[0m\u001b[0m\n\u001b[1;32m      3\u001b[0m         \u001b[0mx\u001b[0m \u001b[0;34m=\u001b[0m \u001b[0;36m364\u001b[0m\u001b[0;34m-\u001b[0m\u001b[0;34m(\u001b[0m\u001b[0mcellObj\u001b[0m\u001b[0;34m.\u001b[0m\u001b[0mvalue\u001b[0m\u001b[0;34m)\u001b[0m\u001b[0;34m\u001b[0m\u001b[0m\n\u001b[1;32m      4\u001b[0m     \u001b[0;32mexcept\u001b[0m\u001b[0;34m:\u001b[0m\u001b[0;34m\u001b[0m\u001b[0m\n\u001b[1;32m      5\u001b[0m         \u001b[0;32mcontinue\u001b[0m\u001b[0;34m\u001b[0m\u001b[0m\n",
      "\u001b[0;31mAttributeError\u001b[0m: 'tuple' object has no attribute 'row'"
     ]
    }
   ],
   "source": [
    "for cellObj in mosheet.columns[11].row[2]:\n",
    "    try:\n",
    "        x = 364-(cellObj.value)\n",
    "    except:\n",
    "        continue"
   ]
  },
  {
   "cell_type": "code",
   "execution_count": 30,
   "metadata": {},
   "outputs": [
    {
     "ename": "AttributeError",
     "evalue": "'Worksheet' object has no attribute 'row'",
     "output_type": "error",
     "traceback": [
      "\u001b[0;31m---------------------------------------------------------------------------\u001b[0m",
      "\u001b[0;31mAttributeError\u001b[0m                            Traceback (most recent call last)",
      "\u001b[0;32m<ipython-input-30-c3f3c4601c7b>\u001b[0m in \u001b[0;36m<module>\u001b[0;34m()\u001b[0m\n\u001b[0;32m----> 1\u001b[0;31m \u001b[0;32mfor\u001b[0m \u001b[0mcellObj\u001b[0m \u001b[0;32min\u001b[0m \u001b[0mmosheet\u001b[0m\u001b[0;34m.\u001b[0m\u001b[0mrow\u001b[0m\u001b[0;34m[\u001b[0m\u001b[0;36m2\u001b[0m\u001b[0;34m]\u001b[0m\u001b[0;34m:\u001b[0m\u001b[0;34m\u001b[0m\u001b[0m\n\u001b[0m\u001b[1;32m      2\u001b[0m     \u001b[0;32mtry\u001b[0m\u001b[0;34m:\u001b[0m\u001b[0;34m\u001b[0m\u001b[0m\n\u001b[1;32m      3\u001b[0m         \u001b[0mx\u001b[0m \u001b[0;34m=\u001b[0m \u001b[0;36m364\u001b[0m\u001b[0;34m-\u001b[0m\u001b[0;34m(\u001b[0m\u001b[0mcellObj\u001b[0m\u001b[0;34m.\u001b[0m\u001b[0mvalue\u001b[0m\u001b[0;34m)\u001b[0m\u001b[0;34m\u001b[0m\u001b[0m\n\u001b[1;32m      4\u001b[0m     \u001b[0;32mexcept\u001b[0m\u001b[0;34m:\u001b[0m\u001b[0;34m\u001b[0m\u001b[0m\n\u001b[1;32m      5\u001b[0m         \u001b[0;32mcontinue\u001b[0m\u001b[0;34m\u001b[0m\u001b[0m\n",
      "\u001b[0;31mAttributeError\u001b[0m: 'Worksheet' object has no attribute 'row'"
     ]
    }
   ],
   "source": [
    "for cellObj in mosheet.row[2]:\n",
    "    try:\n",
    "        x = 364-(cellObj.value)\n",
    "    except:\n",
    "        continue"
   ]
  },
  {
   "cell_type": "code",
   "execution_count": 31,
   "metadata": {},
   "outputs": [
    {
     "ename": "AttributeError",
     "evalue": "'tuple' object has no attribute 'rows'",
     "output_type": "error",
     "traceback": [
      "\u001b[0;31m---------------------------------------------------------------------------\u001b[0m",
      "\u001b[0;31mAttributeError\u001b[0m                            Traceback (most recent call last)",
      "\u001b[0;32m<ipython-input-31-bcba5aa6eb1a>\u001b[0m in \u001b[0;36m<module>\u001b[0;34m()\u001b[0m\n\u001b[0;32m----> 1\u001b[0;31m \u001b[0;32mfor\u001b[0m \u001b[0mcellObj\u001b[0m \u001b[0;32min\u001b[0m \u001b[0mmosheet\u001b[0m\u001b[0;34m.\u001b[0m\u001b[0mcolumns\u001b[0m\u001b[0;34m[\u001b[0m\u001b[0;36m11\u001b[0m\u001b[0;34m]\u001b[0m\u001b[0;34m.\u001b[0m\u001b[0mrows\u001b[0m\u001b[0;34m[\u001b[0m\u001b[0;36m2\u001b[0m\u001b[0;34m]\u001b[0m\u001b[0;34m:\u001b[0m\u001b[0;34m\u001b[0m\u001b[0m\n\u001b[0m\u001b[1;32m      2\u001b[0m     \u001b[0;32mtry\u001b[0m\u001b[0;34m:\u001b[0m\u001b[0;34m\u001b[0m\u001b[0m\n\u001b[1;32m      3\u001b[0m         \u001b[0mx\u001b[0m \u001b[0;34m=\u001b[0m \u001b[0;36m364\u001b[0m\u001b[0;34m-\u001b[0m\u001b[0;34m(\u001b[0m\u001b[0mcellObj\u001b[0m\u001b[0;34m.\u001b[0m\u001b[0mvalue\u001b[0m\u001b[0;34m)\u001b[0m\u001b[0;34m\u001b[0m\u001b[0m\n\u001b[1;32m      4\u001b[0m     \u001b[0;32mexcept\u001b[0m\u001b[0;34m:\u001b[0m\u001b[0;34m\u001b[0m\u001b[0m\n\u001b[1;32m      5\u001b[0m         \u001b[0;32mcontinue\u001b[0m\u001b[0;34m\u001b[0m\u001b[0m\n",
      "\u001b[0;31mAttributeError\u001b[0m: 'tuple' object has no attribute 'rows'"
     ]
    }
   ],
   "source": [
    "for cellObj in mosheet.columns[11].rows[2]:\n",
    "    try:\n",
    "        x = 364-(cellObj.value)\n",
    "    except:\n",
    "        continue"
   ]
  },
  {
   "cell_type": "code",
   "execution_count": 32,
   "metadata": {},
   "outputs": [],
   "source": [
    "for cellObj in mosheet.rows[2]:\n",
    "    try:\n",
    "        x = 364-(cellObj.value)\n",
    "    except:\n",
    "        continue"
   ]
  },
  {
   "cell_type": "code",
   "execution_count": 33,
   "metadata": {},
   "outputs": [
    {
     "name": "stdout",
     "output_type": "stream",
     "text": [
      "253\n"
     ]
    }
   ],
   "source": [
    "print x"
   ]
  },
  {
   "cell_type": "code",
   "execution_count": 34,
   "metadata": {},
   "outputs": [
    {
     "name": "stdout",
     "output_type": "stream",
     "text": [
      "(<Cell missouri.A3>, <Cell missouri.B3>, <Cell missouri.C3>, <Cell missouri.D3>, <Cell missouri.E3>, <Cell missouri.F3>, <Cell missouri.G3>, <Cell missouri.H3>, <Cell missouri.I3>, <Cell missouri.J3>, <Cell missouri.K3>, <Cell missouri.L3>, <Cell missouri.M3>, <Cell missouri.N3>, <Cell missouri.O3>, <Cell missouri.P3>, <Cell missouri.Q3>, <Cell missouri.R3>, <Cell missouri.S3>, <Cell missouri.T3>, <Cell missouri.U3>, <Cell missouri.V3>, <Cell missouri.W3>, <Cell missouri.X3>, <Cell missouri.Y3>, <Cell missouri.Z3>, <Cell missouri.AA3>, <Cell missouri.AB3>, <Cell missouri.AC3>, <Cell missouri.AD3>, <Cell missouri.AE3>, <Cell missouri.AF3>, <Cell missouri.AG3>, <Cell missouri.AH3>, <Cell missouri.AI3>, <Cell missouri.AJ3>, <Cell missouri.AK3>, <Cell missouri.AL3>, <Cell missouri.AM3>, <Cell missouri.AN3>, <Cell missouri.AO3>, <Cell missouri.AP3>, <Cell missouri.AQ3>, <Cell missouri.AR3>, <Cell missouri.AS3>, <Cell missouri.AT3>, <Cell missouri.AU3>, <Cell missouri.AV3>, <Cell missouri.AW3>, <Cell missouri.AX3>, <Cell missouri.AY3>, <Cell missouri.AZ3>, <Cell missouri.BA3>, <Cell missouri.BB3>, <Cell missouri.BC3>, <Cell missouri.BD3>, <Cell missouri.BE3>, <Cell missouri.BF3>, <Cell missouri.BG3>, <Cell missouri.BH3>, <Cell missouri.BI3>, <Cell missouri.BJ3>, <Cell missouri.BK3>, <Cell missouri.BL3>, <Cell missouri.BM3>, <Cell missouri.BN3>, <Cell missouri.BO3>, <Cell missouri.BP3>, <Cell missouri.BQ3>, <Cell missouri.BR3>, <Cell missouri.BS3>, <Cell missouri.BT3>, <Cell missouri.BU3>, <Cell missouri.BV3>, <Cell missouri.BW3>, <Cell missouri.BX3>, <Cell missouri.BY3>, <Cell missouri.BZ3>, <Cell missouri.CA3>, <Cell missouri.CB3>, <Cell missouri.CC3>, <Cell missouri.CD3>, <Cell missouri.CE3>, <Cell missouri.CF3>, <Cell missouri.CG3>, <Cell missouri.CH3>, <Cell missouri.CI3>, <Cell missouri.CJ3>, <Cell missouri.CK3>, <Cell missouri.CL3>, <Cell missouri.CM3>, <Cell missouri.CN3>, <Cell missouri.CO3>, <Cell missouri.CP3>, <Cell missouri.CQ3>, <Cell missouri.CR3>, <Cell missouri.CS3>, <Cell missouri.CT3>, <Cell missouri.CU3>, <Cell missouri.CV3>, <Cell missouri.CW3>, <Cell missouri.CX3>, <Cell missouri.CY3>, <Cell missouri.CZ3>, <Cell missouri.DA3>, <Cell missouri.DB3>, <Cell missouri.DC3>, <Cell missouri.DD3>, <Cell missouri.DE3>, <Cell missouri.DF3>, <Cell missouri.DG3>, <Cell missouri.DH3>, <Cell missouri.DI3>, <Cell missouri.DJ3>, <Cell missouri.DK3>, <Cell missouri.DL3>, <Cell missouri.DM3>, <Cell missouri.DN3>, <Cell missouri.DO3>, <Cell missouri.DP3>, <Cell missouri.DQ3>, <Cell missouri.DR3>, <Cell missouri.DS3>, <Cell missouri.DT3>, <Cell missouri.DU3>, <Cell missouri.DV3>, <Cell missouri.DW3>, <Cell missouri.DX3>, <Cell missouri.DY3>, <Cell missouri.DZ3>, <Cell missouri.EA3>, <Cell missouri.EB3>, <Cell missouri.EC3>, <Cell missouri.ED3>, <Cell missouri.EE3>, <Cell missouri.EF3>, <Cell missouri.EG3>, <Cell missouri.EH3>, <Cell missouri.EI3>, <Cell missouri.EJ3>, <Cell missouri.EK3>, <Cell missouri.EL3>, <Cell missouri.EM3>, <Cell missouri.EN3>, <Cell missouri.EO3>, <Cell missouri.EP3>, <Cell missouri.EQ3>, <Cell missouri.ER3>, <Cell missouri.ES3>, <Cell missouri.ET3>, <Cell missouri.EU3>, <Cell missouri.EV3>, <Cell missouri.EW3>, <Cell missouri.EX3>, <Cell missouri.EY3>, <Cell missouri.EZ3>, <Cell missouri.FA3>, <Cell missouri.FB3>, <Cell missouri.FC3>, <Cell missouri.FD3>, <Cell missouri.FE3>, <Cell missouri.FF3>, <Cell missouri.FG3>, <Cell missouri.FH3>, <Cell missouri.FI3>, <Cell missouri.FJ3>, <Cell missouri.FK3>, <Cell missouri.FL3>, <Cell missouri.FM3>, <Cell missouri.FN3>, <Cell missouri.FO3>, <Cell missouri.FP3>, <Cell missouri.FQ3>, <Cell missouri.FR3>, <Cell missouri.FS3>, <Cell missouri.FT3>, <Cell missouri.FU3>, <Cell missouri.FV3>, <Cell missouri.FW3>, <Cell missouri.FX3>, <Cell missouri.FY3>, <Cell missouri.FZ3>, <Cell missouri.GA3>, <Cell missouri.GB3>, <Cell missouri.GC3>, <Cell missouri.GD3>, <Cell missouri.GE3>, <Cell missouri.GF3>, <Cell missouri.GG3>, <Cell missouri.GH3>, <Cell missouri.GI3>, <Cell missouri.GJ3>, <Cell missouri.GK3>, <Cell missouri.GL3>, <Cell missouri.GM3>, <Cell missouri.GN3>, <Cell missouri.GO3>, <Cell missouri.GP3>, <Cell missouri.GQ3>, <Cell missouri.GR3>, <Cell missouri.GS3>, <Cell missouri.GT3>, <Cell missouri.GU3>, <Cell missouri.GV3>, <Cell missouri.GW3>, <Cell missouri.GX3>, <Cell missouri.GY3>, <Cell missouri.GZ3>, <Cell missouri.HA3>, <Cell missouri.HB3>, <Cell missouri.HC3>, <Cell missouri.HD3>, <Cell missouri.HE3>, <Cell missouri.HF3>, <Cell missouri.HG3>, <Cell missouri.HH3>, <Cell missouri.HI3>, <Cell missouri.HJ3>, <Cell missouri.HK3>, <Cell missouri.HL3>)\n"
     ]
    }
   ],
   "source": [
    "print mosheet.rows[2]"
   ]
  },
  {
   "cell_type": "code",
   "execution_count": 35,
   "metadata": {},
   "outputs": [],
   "source": [
    "l = []"
   ]
  },
  {
   "cell_type": "code",
   "execution_count": 36,
   "metadata": {},
   "outputs": [],
   "source": [
    "for cellObj in mosheet.columns[11]:\n",
    "        l.append(cellObj.value)"
   ]
  },
  {
   "cell_type": "code",
   "execution_count": 37,
   "metadata": {},
   "outputs": [
    {
     "name": "stdout",
     "output_type": "stream",
     "text": [
      "[u'1917_x', None, 279, 282, 282, 279, 274, 281, 282, 279, 279, 281, 279, 281, 279, 279, 281, 279, 286, 282, 279, 282, 281, 281, 279]\n"
     ]
    }
   ],
   "source": [
    "print l"
   ]
  },
  {
   "cell_type": "code",
   "execution_count": 38,
   "metadata": {},
   "outputs": [
    {
     "ename": "TypeError",
     "evalue": "unsupported operand type(s) for -: 'int' and 'unicode'",
     "output_type": "error",
     "traceback": [
      "\u001b[0;31m---------------------------------------------------------------------------\u001b[0m",
      "\u001b[0;31mTypeError\u001b[0m                                 Traceback (most recent call last)",
      "\u001b[0;32m<ipython-input-38-8414b7517cdf>\u001b[0m in \u001b[0;36m<module>\u001b[0;34m()\u001b[0m\n\u001b[1;32m      1\u001b[0m \u001b[0;32mfor\u001b[0m \u001b[0mi\u001b[0m \u001b[0;32min\u001b[0m \u001b[0ml\u001b[0m\u001b[0;34m:\u001b[0m\u001b[0;34m\u001b[0m\u001b[0m\n\u001b[0;32m----> 2\u001b[0;31m     \u001b[0;36m364\u001b[0m \u001b[0;34m-\u001b[0m \u001b[0mi\u001b[0m\u001b[0;34m\u001b[0m\u001b[0m\n\u001b[0m",
      "\u001b[0;31mTypeError\u001b[0m: unsupported operand type(s) for -: 'int' and 'unicode'"
     ]
    }
   ],
   "source": [
    "for i in l:\n",
    "    364 - i"
   ]
  },
  {
   "cell_type": "code",
   "execution_count": 39,
   "metadata": {},
   "outputs": [],
   "source": [
    "for i in l:\n",
    "    try:\n",
    "        364 - i\n",
    "    except:\n",
    "        continue"
   ]
  },
  {
   "cell_type": "code",
   "execution_count": 40,
   "metadata": {},
   "outputs": [
    {
     "name": "stdout",
     "output_type": "stream",
     "text": [
      "279\n"
     ]
    }
   ],
   "source": [
    "print i"
   ]
  },
  {
   "cell_type": "code",
   "execution_count": 41,
   "metadata": {},
   "outputs": [],
   "source": [
    "l = []"
   ]
  },
  {
   "cell_type": "code",
   "execution_count": 42,
   "metadata": {},
   "outputs": [
    {
     "name": "stdout",
     "output_type": "stream",
     "text": [
      "[]\n"
     ]
    }
   ],
   "source": [
    "print l"
   ]
  },
  {
   "cell_type": "code",
   "execution_count": 43,
   "metadata": {},
   "outputs": [
    {
     "ename": "TypeError",
     "evalue": "unsupported operand type(s) for -: 'int' and 'unicode'",
     "output_type": "error",
     "traceback": [
      "\u001b[0;31m---------------------------------------------------------------------------\u001b[0m",
      "\u001b[0;31mTypeError\u001b[0m                                 Traceback (most recent call last)",
      "\u001b[0;32m<ipython-input-43-a19141e4a2fd>\u001b[0m in \u001b[0;36m<module>\u001b[0;34m()\u001b[0m\n\u001b[1;32m      1\u001b[0m \u001b[0;32mfor\u001b[0m \u001b[0mcellObj\u001b[0m \u001b[0;32min\u001b[0m \u001b[0mmosheet\u001b[0m\u001b[0;34m.\u001b[0m\u001b[0mcolumns\u001b[0m\u001b[0;34m[\u001b[0m\u001b[0;36m11\u001b[0m\u001b[0;34m]\u001b[0m\u001b[0;34m:\u001b[0m\u001b[0;34m\u001b[0m\u001b[0m\n\u001b[0;32m----> 2\u001b[0;31m         \u001b[0ml\u001b[0m\u001b[0;34m.\u001b[0m\u001b[0mappend\u001b[0m\u001b[0;34m(\u001b[0m\u001b[0;36m364\u001b[0m \u001b[0;34m-\u001b[0m \u001b[0mcellObj\u001b[0m\u001b[0;34m.\u001b[0m\u001b[0mvalue\u001b[0m\u001b[0;34m)\u001b[0m\u001b[0;34m\u001b[0m\u001b[0m\n\u001b[0m",
      "\u001b[0;31mTypeError\u001b[0m: unsupported operand type(s) for -: 'int' and 'unicode'"
     ]
    }
   ],
   "source": [
    "for cellObj in mosheet.columns[11]:\n",
    "        l.append(364 - cellObj.value)"
   ]
  },
  {
   "cell_type": "code",
   "execution_count": 44,
   "metadata": {},
   "outputs": [],
   "source": [
    "for cellObj in mosheet.columns[11]:\n",
    "    try:\n",
    "        x = 364-(cellObj.value)\n",
    "    except:\n",
    "        continue"
   ]
  },
  {
   "cell_type": "code",
   "execution_count": 45,
   "metadata": {},
   "outputs": [],
   "source": [
    "l.append(x)"
   ]
  },
  {
   "cell_type": "code",
   "execution_count": 46,
   "metadata": {},
   "outputs": [
    {
     "name": "stdout",
     "output_type": "stream",
     "text": [
      "[85]\n"
     ]
    }
   ],
   "source": [
    "print l"
   ]
  },
  {
   "cell_type": "code",
   "execution_count": 47,
   "metadata": {},
   "outputs": [],
   "source": [
    "for i in l:\n",
    "    try:\n",
    "        (364 - i)\n",
    "    except:\n",
    "        continue"
   ]
  },
  {
   "cell_type": "code",
   "execution_count": 48,
   "metadata": {},
   "outputs": [
    {
     "name": "stdout",
     "output_type": "stream",
     "text": [
      "85\n"
     ]
    }
   ],
   "source": [
    "print i"
   ]
  },
  {
   "cell_type": "code",
   "execution_count": 49,
   "metadata": {},
   "outputs": [
    {
     "name": "stdout",
     "output_type": "stream",
     "text": [
      "('L2', None)\n",
      "('L3', 279)\n",
      "('L4', 282)\n",
      "('L5', 282)\n",
      "('L6', 279)\n",
      "('L7', 274)\n",
      "('L8', 281)\n",
      "('L9', 282)\n",
      "('L10', 279)\n",
      "('L11', 279)\n",
      "('L12', 281)\n",
      "('L13', 279)\n",
      "('L14', 281)\n",
      "('L15', 279)\n",
      "('L16', 279)\n",
      "('L17', 281)\n",
      "('L18', 279)\n",
      "('L19', 286)\n",
      "('L20', 282)\n",
      "('L21', 279)\n",
      "('L22', 282)\n",
      "('L23', 281)\n",
      "('L24', 281)\n",
      "('L25', 279)\n"
     ]
    }
   ],
   "source": [
    "for rowOfCellObjects in mosheet['L2':'L25']:\n",
    "    for cellObj in rowOfCellObjects:\n",
    "        print(cellObj.coordinate, cellObj.value)"
   ]
  },
  {
   "cell_type": "code",
   "execution_count": 50,
   "metadata": {},
   "outputs": [
    {
     "name": "stdout",
     "output_type": "stream",
     "text": [
      "None\n",
      "279\n",
      "282\n",
      "282\n",
      "279\n",
      "274\n",
      "281\n",
      "282\n",
      "279\n",
      "279\n",
      "281\n",
      "279\n",
      "281\n",
      "279\n",
      "279\n",
      "281\n",
      "279\n",
      "286\n",
      "282\n",
      "279\n",
      "282\n",
      "281\n",
      "281\n",
      "279\n"
     ]
    }
   ],
   "source": [
    "for rowOfCellObjects in mosheet['L2':'L25']:\n",
    "    for cellObj in rowOfCellObjects:\n",
    "        print(cellObj.value)"
   ]
  },
  {
   "cell_type": "code",
   "execution_count": 51,
   "metadata": {},
   "outputs": [],
   "source": [
    "l = []"
   ]
  },
  {
   "cell_type": "code",
   "execution_count": 52,
   "metadata": {},
   "outputs": [
    {
     "ename": "TypeError",
     "evalue": "'builtin_function_or_method' object has no attribute '__getitem__'",
     "output_type": "error",
     "traceback": [
      "\u001b[0;31m---------------------------------------------------------------------------\u001b[0m",
      "\u001b[0;31mTypeError\u001b[0m                                 Traceback (most recent call last)",
      "\u001b[0;32m<ipython-input-52-4d0d2c6aa44c>\u001b[0m in \u001b[0;36m<module>\u001b[0;34m()\u001b[0m\n\u001b[1;32m      1\u001b[0m \u001b[0;32mfor\u001b[0m \u001b[0mrowOfCellObjects\u001b[0m \u001b[0;32min\u001b[0m \u001b[0mmosheet\u001b[0m\u001b[0;34m[\u001b[0m\u001b[0;34m'L2'\u001b[0m\u001b[0;34m:\u001b[0m\u001b[0;34m'L25'\u001b[0m\u001b[0;34m]\u001b[0m\u001b[0;34m:\u001b[0m\u001b[0;34m\u001b[0m\u001b[0m\n\u001b[1;32m      2\u001b[0m     \u001b[0;32mfor\u001b[0m \u001b[0mcellObj\u001b[0m \u001b[0;32min\u001b[0m \u001b[0mrowOfCellObjects\u001b[0m\u001b[0;34m:\u001b[0m\u001b[0;34m\u001b[0m\u001b[0m\n\u001b[0;32m----> 3\u001b[0;31m         \u001b[0ml\u001b[0m\u001b[0;34m.\u001b[0m\u001b[0mappend\u001b[0m\u001b[0;34m[\u001b[0m\u001b[0mcellObj\u001b[0m\u001b[0;34m.\u001b[0m\u001b[0mvalue\u001b[0m\u001b[0;34m]\u001b[0m\u001b[0;34m\u001b[0m\u001b[0m\n\u001b[0m",
      "\u001b[0;31mTypeError\u001b[0m: 'builtin_function_or_method' object has no attribute '__getitem__'"
     ]
    }
   ],
   "source": [
    "for rowOfCellObjects in mosheet['L2':'L25']:\n",
    "    for cellObj in rowOfCellObjects:\n",
    "        l.append[cellObj.value]"
   ]
  },
  {
   "cell_type": "code",
   "execution_count": 53,
   "metadata": {},
   "outputs": [],
   "source": [
    "for rowOfCellObjects in mosheet['L2':'L25']:\n",
    "    for cellObj in rowOfCellObjects:\n",
    "        l.append(cellObj.value)"
   ]
  },
  {
   "cell_type": "code",
   "execution_count": 54,
   "metadata": {},
   "outputs": [
    {
     "name": "stdout",
     "output_type": "stream",
     "text": [
      "[None, 279, 282, 282, 279, 274, 281, 282, 279, 279, 281, 279, 281, 279, 279, 281, 279, 286, 282, 279, 282, 281, 281, 279]\n"
     ]
    }
   ],
   "source": [
    "print l"
   ]
  },
  {
   "cell_type": "code",
   "execution_count": 55,
   "metadata": {},
   "outputs": [
    {
     "ename": "TypeError",
     "evalue": "unsupported operand type(s) for -: 'int' and 'NoneType'",
     "output_type": "error",
     "traceback": [
      "\u001b[0;31m---------------------------------------------------------------------------\u001b[0m",
      "\u001b[0;31mTypeError\u001b[0m                                 Traceback (most recent call last)",
      "\u001b[0;32m<ipython-input-55-d1152a5c8032>\u001b[0m in \u001b[0;36m<module>\u001b[0;34m()\u001b[0m\n\u001b[0;32m----> 1\u001b[0;31m \u001b[0;36m364\u001b[0m \u001b[0;34m-\u001b[0m \u001b[0ml\u001b[0m\u001b[0;34m[\u001b[0m\u001b[0;36m0\u001b[0m\u001b[0;34m]\u001b[0m\u001b[0;34m\u001b[0m\u001b[0m\n\u001b[0m",
      "\u001b[0;31mTypeError\u001b[0m: unsupported operand type(s) for -: 'int' and 'NoneType'"
     ]
    }
   ],
   "source": [
    "364 - l[0]"
   ]
  },
  {
   "cell_type": "code",
   "execution_count": 58,
   "metadata": {},
   "outputs": [],
   "source": [
    "for i in l:\n",
    "    try: \n",
    "        x = 364 - l[0]\n",
    "    except:\n",
    "        continue"
   ]
  },
  {
   "cell_type": "code",
   "execution_count": 57,
   "metadata": {},
   "outputs": [
    {
     "name": "stdout",
     "output_type": "stream",
     "text": [
      "279\n"
     ]
    }
   ],
   "source": [
    "print i"
   ]
  },
  {
   "cell_type": "code",
   "execution_count": 59,
   "metadata": {},
   "outputs": [
    {
     "name": "stdout",
     "output_type": "stream",
     "text": [
      "85\n"
     ]
    }
   ],
   "source": [
    "print x"
   ]
  },
  {
   "cell_type": "code",
   "execution_count": 60,
   "metadata": {},
   "outputs": [],
   "source": [
    "for i in l:\n",
    "    try: \n",
    "        364 - i\n",
    "    except:\n",
    "        continue"
   ]
  },
  {
   "cell_type": "code",
   "execution_count": 61,
   "metadata": {},
   "outputs": [],
   "source": [
    "l1 = []"
   ]
  },
  {
   "cell_type": "code",
   "execution_count": 62,
   "metadata": {},
   "outputs": [],
   "source": [
    "for i in l:\n",
    "    try: \n",
    "        x = 364 - i\n",
    "    except:\n",
    "        continue\n",
    "    l1.append(x)"
   ]
  },
  {
   "cell_type": "code",
   "execution_count": 63,
   "metadata": {},
   "outputs": [
    {
     "name": "stdout",
     "output_type": "stream",
     "text": [
      "[85, 82, 82, 85, 90, 83, 82, 85, 85, 83, 85, 83, 85, 85, 83, 85, 78, 82, 85, 82, 83, 83, 85]\n"
     ]
    }
   ],
   "source": [
    "print l1"
   ]
  },
  {
   "cell_type": "code",
   "execution_count": null,
   "metadata": {},
   "outputs": [],
   "source": []
  }
 ],
 "metadata": {
  "kernelspec": {
   "display_name": "Python 2",
   "language": "python",
   "name": "python2"
  },
  "language_info": {
   "codemirror_mode": {
    "name": "ipython",
    "version": 2
   },
   "file_extension": ".py",
   "mimetype": "text/x-python",
   "name": "python",
   "nbconvert_exporter": "python",
   "pygments_lexer": "ipython2",
   "version": "2.7.13"
  }
 },
 "nbformat": 4,
 "nbformat_minor": 2
}
